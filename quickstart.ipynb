{
 "cells": [
  {
   "source": [
    "**环境安装**"
   ],
   "cell_type": "markdown",
   "metadata": {}
  },
  {
   "cell_type": "code",
   "execution_count": 2,
   "id": "cb955b49",
   "metadata": {},
   "outputs": [
    {
     "output_type": "stream",
     "name": "stdout",
     "text": [
      "Requirement already satisfied: ipython in /Users/lvhaoran/opt/anaconda3/envs/pyspark/lib/python3.6/site-packages (7.16.1)\n",
      "Requirement already satisfied: scipy in /Users/lvhaoran/opt/anaconda3/envs/pyspark/lib/python3.6/site-packages (1.5.4)\n",
      "Requirement already satisfied: h5py in /Users/lvhaoran/opt/anaconda3/envs/pyspark/lib/python3.6/site-packages (3.1.0)\n",
      "Requirement already satisfied: ninja in /Users/lvhaoran/opt/anaconda3/envs/pyspark/lib/python3.6/site-packages (1.10.2)\n",
      "Requirement already satisfied: yacs in /Users/lvhaoran/opt/anaconda3/envs/pyspark/lib/python3.6/site-packages (0.1.8)\n",
      "Requirement already satisfied: cython in /Users/lvhaoran/opt/anaconda3/envs/pyspark/lib/python3.6/site-packages (0.29.24)\n",
      "Requirement already satisfied: setuptools>=18.5 in /Users/lvhaoran/opt/anaconda3/envs/pyspark/lib/python3.6/site-packages (from ipython) (52.0.0.post20210125)\n",
      "Requirement already satisfied: pygments in /Users/lvhaoran/opt/anaconda3/envs/pyspark/lib/python3.6/site-packages (from ipython) (2.9.0)\n",
      "Requirement already satisfied: pickleshare in /Users/lvhaoran/opt/anaconda3/envs/pyspark/lib/python3.6/site-packages (from ipython) (0.7.5)\n",
      "Requirement already satisfied: appnope in /Users/lvhaoran/opt/anaconda3/envs/pyspark/lib/python3.6/site-packages (from ipython) (0.1.2)\n",
      "Requirement already satisfied: jedi>=0.10 in /Users/lvhaoran/opt/anaconda3/envs/pyspark/lib/python3.6/site-packages (from ipython) (0.18.0)\n",
      "Requirement already satisfied: decorator in /Users/lvhaoran/opt/anaconda3/envs/pyspark/lib/python3.6/site-packages (from ipython) (5.0.9)\n",
      "Requirement already satisfied: backcall in /Users/lvhaoran/opt/anaconda3/envs/pyspark/lib/python3.6/site-packages (from ipython) (0.2.0)\n",
      "Requirement already satisfied: traitlets>=4.2 in /Users/lvhaoran/opt/anaconda3/envs/pyspark/lib/python3.6/site-packages (from ipython) (4.3.3)\n",
      "Requirement already satisfied: prompt-toolkit!=3.0.0,!=3.0.1,<3.1.0,>=2.0.0 in /Users/lvhaoran/opt/anaconda3/envs/pyspark/lib/python3.6/site-packages (from ipython) (3.0.19)\n",
      "Requirement already satisfied: pexpect in /Users/lvhaoran/opt/anaconda3/envs/pyspark/lib/python3.6/site-packages (from ipython) (4.8.0)\n",
      "Requirement already satisfied: numpy>=1.14.5 in /Users/lvhaoran/opt/anaconda3/envs/pyspark/lib/python3.6/site-packages (from scipy) (1.19.5)\n",
      "Requirement already satisfied: cached-property in /Users/lvhaoran/opt/anaconda3/envs/pyspark/lib/python3.6/site-packages (from h5py) (1.5.2)\n",
      "Requirement already satisfied: PyYAML in /Users/lvhaoran/opt/anaconda3/envs/pyspark/lib/python3.6/site-packages (from yacs) (5.4.1)\n",
      "Requirement already satisfied: parso<0.9.0,>=0.8.0 in /Users/lvhaoran/opt/anaconda3/envs/pyspark/lib/python3.6/site-packages (from jedi>=0.10->ipython) (0.8.2)\n",
      "Requirement already satisfied: wcwidth in /Users/lvhaoran/opt/anaconda3/envs/pyspark/lib/python3.6/site-packages (from prompt-toolkit!=3.0.0,!=3.0.1,<3.1.0,>=2.0.0->ipython) (0.2.5)\n",
      "Requirement already satisfied: ipython-genutils in /Users/lvhaoran/opt/anaconda3/envs/pyspark/lib/python3.6/site-packages (from traitlets>=4.2->ipython) (0.2.0)\n",
      "Requirement already satisfied: six in /Users/lvhaoran/opt/anaconda3/envs/pyspark/lib/python3.6/site-packages (from traitlets>=4.2->ipython) (1.16.0)\n",
      "Requirement already satisfied: ptyprocess>=0.5 in /Users/lvhaoran/opt/anaconda3/envs/pyspark/lib/python3.6/site-packages (from pexpect->ipython) (0.7.0)\n",
      "Looking in links: https://download.pytorch.org/whl/torch_stable.html\n",
      "\u001b[31mERROR: Could not find a version that satisfies the requirement torch==1.4.0+cpu (from versions: 0.1.2, 0.1.2.post1, 0.1.2.post2, 0.1.7.post2, 0.1.8.post1, 0.1.9.post1, 0.1.9.post2, 0.1.10.post1, 0.1.11.post4, 0.1.11.post5, 0.1.12.post1, 0.1.12.post2, 0.2.0.post1, 0.2.0.post2, 0.2.0.post3, 0.3.0, 0.3.0.post2, 0.3.0.post3, 0.3.0.post4, 0.3.1, 0.4.0, 0.4.1, 1.0.0, 1.0.1, 1.0.1.post2, 1.1.0, 1.1.0.post2, 1.2.0, 1.3.0, 1.3.0.post2, 1.3.1, 1.4.0, 1.5.0, 1.5.1, 1.6.0, 1.7.0, 1.7.1, 1.8.0, 1.8.1, 1.9.0)\u001b[0m\n",
      "\u001b[31mERROR: No matching distribution found for torch==1.4.0+cpu\u001b[0m\n"
     ]
    }
   ],
   "source": [
    "!pip install ipython scipy h5py ninja yacs cython\n",
    "!pip install torch==1.4.0+cpu torchvision==0.6.0+cpu -f https://download.pytorch.org/whl/torch_stable.html"
   ]
  },
  {
   "cell_type": "code",
   "execution_count": 2,
   "id": "096252c7",
   "metadata": {},
   "outputs": [
    {
     "name": "stdout",
     "output_type": "stream",
     "text": [
      "running build_ext\n",
      "skipping 'pycocotools/_mask.c' Cython extension (up-to-date)\n",
      "running install\n",
      "running bdist_egg\n",
      "running egg_info\n",
      "writing pycocotools.egg-info/PKG-INFO\n",
      "writing dependency_links to pycocotools.egg-info/dependency_links.txt\n",
      "writing requirements to pycocotools.egg-info/requires.txt\n",
      "writing top-level names to pycocotools.egg-info/top_level.txt\n",
      "reading manifest file 'pycocotools.egg-info/SOURCES.txt'\n",
      "writing manifest file 'pycocotools.egg-info/SOURCES.txt'\n",
      "installing library code to build/bdist.linux-x86_64/egg\n",
      "running install_lib\n",
      "running build_py\n",
      "creating build/bdist.linux-x86_64/egg\n",
      "creating build/bdist.linux-x86_64/egg/pycocotools\n",
      "copying build/lib.linux-x86_64-3.6/pycocotools/__init__.py -> build/bdist.linux-x86_64/egg/pycocotools\n",
      "copying build/lib.linux-x86_64-3.6/pycocotools/cocoeval.py -> build/bdist.linux-x86_64/egg/pycocotools\n",
      "copying build/lib.linux-x86_64-3.6/pycocotools/coco.py -> build/bdist.linux-x86_64/egg/pycocotools\n",
      "copying build/lib.linux-x86_64-3.6/pycocotools/mask.py -> build/bdist.linux-x86_64/egg/pycocotools\n",
      "copying build/lib.linux-x86_64-3.6/pycocotools/_mask.cpython-36m-x86_64-linux-gnu.so -> build/bdist.linux-x86_64/egg/pycocotools\n",
      "byte-compiling build/bdist.linux-x86_64/egg/pycocotools/__init__.py to __init__.cpython-36.pyc\n",
      "byte-compiling build/bdist.linux-x86_64/egg/pycocotools/cocoeval.py to cocoeval.cpython-36.pyc\n",
      "byte-compiling build/bdist.linux-x86_64/egg/pycocotools/coco.py to coco.cpython-36.pyc\n",
      "byte-compiling build/bdist.linux-x86_64/egg/pycocotools/mask.py to mask.cpython-36.pyc\n",
      "creating stub loader for pycocotools/_mask.cpython-36m-x86_64-linux-gnu.so\n",
      "byte-compiling build/bdist.linux-x86_64/egg/pycocotools/_mask.py to _mask.cpython-36.pyc\n",
      "creating build/bdist.linux-x86_64/egg/EGG-INFO\n",
      "copying pycocotools.egg-info/PKG-INFO -> build/bdist.linux-x86_64/egg/EGG-INFO\n",
      "copying pycocotools.egg-info/SOURCES.txt -> build/bdist.linux-x86_64/egg/EGG-INFO\n",
      "copying pycocotools.egg-info/dependency_links.txt -> build/bdist.linux-x86_64/egg/EGG-INFO\n",
      "copying pycocotools.egg-info/requires.txt -> build/bdist.linux-x86_64/egg/EGG-INFO\n",
      "copying pycocotools.egg-info/top_level.txt -> build/bdist.linux-x86_64/egg/EGG-INFO\n",
      "writing build/bdist.linux-x86_64/egg/EGG-INFO/native_libs.txt\n",
      "zip_safe flag not set; analyzing archive contents...\n",
      "pycocotools.__pycache__._mask.cpython-36: module references __file__\n",
      "creating 'dist/pycocotools-2.0-py3.6-linux-x86_64.egg' and adding 'build/bdist.linux-x86_64/egg' to it\n",
      "removing 'build/bdist.linux-x86_64/egg' (and everything under it)\n",
      "Processing pycocotools-2.0-py3.6-linux-x86_64.egg\n",
      "creating /home/ec2-user/anaconda3/envs/python3/lib/python3.6/site-packages/pycocotools-2.0-py3.6-linux-x86_64.egg\n",
      "Extracting pycocotools-2.0-py3.6-linux-x86_64.egg to /home/ec2-user/anaconda3/envs/python3/lib/python3.6/site-packages\n",
      "Adding pycocotools 2.0 to easy-install.pth file\n",
      "\n",
      "Installed /home/ec2-user/anaconda3/envs/python3/lib/python3.6/site-packages/pycocotools-2.0-py3.6-linux-x86_64.egg\n",
      "Processing dependencies for pycocotools==2.0\n",
      "Searching for matplotlib==3.3.4\n",
      "Best match: matplotlib 3.3.4\n",
      "Adding matplotlib 3.3.4 to easy-install.pth file\n",
      "\n",
      "Using /home/ec2-user/anaconda3/envs/python3/lib/python3.6/site-packages\n",
      "Searching for Cython==0.29.22\n",
      "Best match: Cython 0.29.22\n",
      "Adding Cython 0.29.22 to easy-install.pth file\n",
      "Installing cygdb script to /home/ec2-user/anaconda3/envs/python3/bin\n",
      "Installing cython script to /home/ec2-user/anaconda3/envs/python3/bin\n",
      "Installing cythonize script to /home/ec2-user/anaconda3/envs/python3/bin\n",
      "\n",
      "Using /home/ec2-user/anaconda3/envs/python3/lib/python3.6/site-packages\n",
      "Searching for setuptools==49.6.0.post20210108\n",
      "Best match: setuptools 49.6.0.post20210108\n",
      "Adding setuptools 49.6.0.post20210108 to easy-install.pth file\n",
      "Installing easy_install script to /home/ec2-user/anaconda3/envs/python3/bin\n",
      "\n",
      "Using /home/ec2-user/anaconda3/envs/python3/lib/python3.6/site-packages\n",
      "Searching for cycler==0.10.0\n",
      "Best match: cycler 0.10.0\n",
      "Adding cycler 0.10.0 to easy-install.pth file\n",
      "\n",
      "Using /home/ec2-user/anaconda3/envs/python3/lib/python3.6/site-packages\n",
      "Searching for numpy==1.19.5\n",
      "Best match: numpy 1.19.5\n",
      "Adding numpy 1.19.5 to easy-install.pth file\n",
      "Installing f2py script to /home/ec2-user/anaconda3/envs/python3/bin\n",
      "Installing f2py3 script to /home/ec2-user/anaconda3/envs/python3/bin\n",
      "Installing f2py3.6 script to /home/ec2-user/anaconda3/envs/python3/bin\n",
      "\n",
      "Using /home/ec2-user/anaconda3/envs/python3/lib/python3.6/site-packages\n",
      "Searching for kiwisolver==1.3.1\n",
      "Best match: kiwisolver 1.3.1\n",
      "Adding kiwisolver 1.3.1 to easy-install.pth file\n",
      "\n",
      "Using /home/ec2-user/anaconda3/envs/python3/lib/python3.6/site-packages\n",
      "Searching for python-dateutil==2.8.1\n",
      "Best match: python-dateutil 2.8.1\n",
      "Adding python-dateutil 2.8.1 to easy-install.pth file\n",
      "\n",
      "Using /home/ec2-user/anaconda3/envs/python3/lib/python3.6/site-packages\n",
      "Searching for pyparsing==2.4.7\n",
      "Best match: pyparsing 2.4.7\n",
      "Adding pyparsing 2.4.7 to easy-install.pth file\n",
      "\n",
      "Using /home/ec2-user/anaconda3/envs/python3/lib/python3.6/site-packages\n",
      "Searching for Pillow==8.3.1\n",
      "Best match: Pillow 8.3.1\n",
      "Adding Pillow 8.3.1 to easy-install.pth file\n",
      "\n",
      "Using /home/ec2-user/anaconda3/envs/python3/lib/python3.6/site-packages\n",
      "Searching for six==1.15.0\n",
      "Best match: six 1.15.0\n",
      "Adding six 1.15.0 to easy-install.pth file\n",
      "\n",
      "Using /home/ec2-user/anaconda3/envs/python3/lib/python3.6/site-packages\n",
      "Finished processing dependencies for pycocotools==2.0\n"
     ]
    }
   ],
   "source": [
    "!git clone https://github.com/cocodataset/cocoapi.git\n",
    "!cd cocoapi/PythonAPI; python setup.py build_ext install"
   ]
  },
  {
   "cell_type": "code",
   "execution_count": 6,
   "id": "18363610",
   "metadata": {},
   "outputs": [
    {
     "name": "stdout",
     "output_type": "stream",
     "text": [
      "nvcc: NVIDIA (R) Cuda compiler driver\n",
      "Copyright (c) 2005-2018 NVIDIA Corporation\n",
      "Built on Sat_Aug_25_21:08:01_CDT_2018\n",
      "Cuda compilation tools, release 10.0, V10.0.130\n"
     ]
    }
   ],
   "source": [
    "!nvcc --version"
   ]
  },
  {
   "cell_type": "code",
   "execution_count": 9,
   "id": "ed3a2997",
   "metadata": {},
   "outputs": [
    {
     "name": "stdout",
     "output_type": "stream",
     "text": [
      "No CUDA runtime is found, using CUDA_HOME='/usr/local/cuda-10.0'\n",
      "running build\n",
      "running build_py\n",
      "copying maskrcnn_benchmark/modeling/roi_heads/relation_head/loss.py -> build/lib.linux-x86_64-3.6/maskrcnn_benchmark/modeling/roi_heads/relation_head\n",
      "running build_ext\n",
      "running develop\n",
      "running egg_info\n",
      "writing maskrcnn_benchmark.egg-info/PKG-INFO\n",
      "writing dependency_links to maskrcnn_benchmark.egg-info/dependency_links.txt\n",
      "writing top-level names to maskrcnn_benchmark.egg-info/top_level.txt\n",
      "reading manifest file 'maskrcnn_benchmark.egg-info/SOURCES.txt'\n",
      "writing manifest file 'maskrcnn_benchmark.egg-info/SOURCES.txt'\n",
      "running build_ext\n",
      "copying build/lib.linux-x86_64-3.6/maskrcnn_benchmark/_C.cpython-36m-x86_64-linux-gnu.so -> maskrcnn_benchmark\n",
      "Creating /home/ec2-user/anaconda3/envs/python3/lib/python3.6/site-packages/maskrcnn-benchmark.egg-link (link to .)\n",
      "Adding maskrcnn-benchmark 0.1 to easy-install.pth file\n",
      "\n",
      "Installed /home/ec2-user/SageMaker/test/Scene\n",
      "Processing dependencies for maskrcnn-benchmark==0.1\n",
      "Finished processing dependencies for maskrcnn-benchmark==0.1\n"
     ]
    }
   ],
   "source": [
    "!cd Scene; python setup.py build develop"
   ]
  },
  {
   "source": [
    "**测试**"
   ],
   "cell_type": "markdown",
   "metadata": {}
  },
  {
   "cell_type": "code",
   "execution_count": null,
   "metadata": {},
   "outputs": [],
   "source": [
    "cd Scene"
   ]
  },
  {
   "cell_type": "code",
   "execution_count": null,
   "metadata": {},
   "outputs": [],
   "source": [
    "!python ./tools/relation_test_net.py --config-file \"./configs/e2e_relation_X_101_32_8_FPN_1x.yaml\" \\\n",
    "MODEL.ROI_RELATION_HEAD.USE_GT_BOX False MODEL.ROI_RELATION_HEAD.USE_GT_OBJECT_LABEL False MODEL.ROI_RELATION_HEAD.PREDICTOR CausalAnalysisPredictor \\\n",
    "MODEL.ROI_RELATION_HEAD.CAUSAL.EFFECT_TYPE TDE MODEL.ROI_RELATION_HEAD.CAUSAL.FUSION_TYPE sum MODEL.ROI_RELATION_HEAD.CAUSAL.CONTEXT_LAYER motifs \\\n",
    "TEST.IMS_PER_BATCH 1 DTYPE \"float16\" GLOVE_DIR ./glove MODEL.PRETRAINED_DETECTOR_CKPT ./checkpoints/causal_motif_sgdet OUTPUT_DIR ./checkpoints/causal_motif_sgdet TEST.CUSTUM_EVAL True \\\n",
    "TEST.CUSTUM_PATH ./custom_images DETECTED_SGG_DIR ./sgdet_output"
   ]
  },
  {
   "source": [
    "**结果可视化**"
   ],
   "cell_type": "markdown",
   "metadata": {}
  },
  {
   "cell_type": "code",
   "execution_count": null,
   "metadata": {},
   "outputs": [],
   "source": [
    "import torch\n",
    "import json\n",
    "import h5py\n",
    "import random\n",
    "import numpy as np\n",
    "from matplotlib.pyplot import imshow\n",
    "from PIL import Image, ImageDraw"
   ]
  },
  {
   "cell_type": "code",
   "execution_count": null,
   "metadata": {},
   "outputs": [],
   "source": [
    "# load the following to files from DETECTED_SGG_DIR\n",
    "custom_prediction = json.load(open('./Scene/sgdet_output/custom_prediction.json'))\n",
    "custom_data_info = json.load(open('./Scene/sgdet_output/custom_data_info.json'))"
   ]
  },
  {
   "cell_type": "code",
   "execution_count": null,
   "metadata": {},
   "outputs": [],
   "source": [
    "def draw_single_box(pic, box, color='red', draw_info=None):\n",
    "    draw = ImageDraw.Draw(pic)\n",
    "    x1,y1,x2,y2 = int(box[0]), int(box[1]), int(box[2]), int(box[3])\n",
    "    draw.rectangle(((x1, y1), (x2, y2)), outline=color)\n",
    "    if draw_info:\n",
    "        draw.rectangle(((x1, y1), (x1+50, y1+10)), fill=color)\n",
    "        info = draw_info\n",
    "        draw.text((x1, y1), info)\n",
    "        \n",
    "def print_list(name, input_list, scores=None):\n",
    "    for i, item in enumerate(input_list):\n",
    "        if scores == None:\n",
    "            print(name + ' ' + str(i) + ': ' + str(item))\n",
    "        else:\n",
    "            print(name + ' ' + str(i) + ': ' + str(item) + '; score: ' + str(scores[i]))\n",
    "    \n",
    "def draw_image(img_path, boxes, box_labels, rel_labels, box_scores=None, rel_scores=None):\n",
    "    size = get_size(Image.open(img_path).size)\n",
    "    pic = Image.open(img_path).resize(size)\n",
    "    num_obj = len(boxes)\n",
    "    for i in range(num_obj):\n",
    "        info = str(i) + '_' + box_labels[i]\n",
    "        draw_single_box(pic, boxes[i], draw_info=info)\n",
    "    display(pic)\n",
    "    print('*' * 50)\n",
    "    print_list('box_labels', box_labels, box_scores)\n",
    "    print('*' * 50)\n",
    "    print_list('rel_labels', rel_labels, rel_scores)\n",
    "    \n",
    "    return None\n",
    "\n",
    "def get_size(image_size):\n",
    "    min_size = 600\n",
    "    max_size = 1000\n",
    "    w, h = image_size\n",
    "    size = min_size\n",
    "    if max_size is not None:\n",
    "        min_original_size = float(min((w, h)))\n",
    "        max_original_size = float(max((w, h)))\n",
    "        if max_original_size / min_original_size * size > max_size:\n",
    "            size = int(round(max_size * min_original_size / max_original_size))\n",
    "    if (w <= h and w == size) or (h <= w and h == size):\n",
    "        return (w, h)\n",
    "    if w < h:\n",
    "        ow = size\n",
    "        oh = int(size * h / w)\n",
    "    else:\n",
    "        oh = size\n",
    "        ow = int(size * w / h)\n",
    "    return (ow, oh)"
   ]
  },
  {
   "cell_type": "code",
   "execution_count": null,
   "metadata": {},
   "outputs": [],
   "source": [
    "# parameters\n",
    "image_idx = 5\n",
    "box_topk = 30 # select top k bounding boxes\n",
    "rel_topk = 100 # select top k relationships\n",
    "ind_to_classes = custom_data_info['ind_to_classes']\n",
    "ind_to_predicates = custom_data_info['ind_to_predicates']"
   ]
  },
  {
   "cell_type": "code",
   "execution_count": null,
   "metadata": {},
   "outputs": [],
   "source": [
    "custom_data_info['idx_to_files']"
   ]
  },
  {
   "cell_type": "code",
   "execution_count": null,
   "metadata": {},
   "outputs": [],
   "source": [
    "image_path = custom_data_info['idx_to_files'][image_idx]\n",
    "image_path = '../custom_images/20210812_103112.jpg'\n",
    "boxes = custom_prediction[str(image_idx)]['bbox'][:box_topk]\n",
    "box_labels = custom_prediction[str(image_idx)]['bbox_labels'][:box_topk]\n",
    "box_scores = custom_prediction[str(image_idx)]['bbox_scores'][:box_topk]\n",
    "all_rel_labels = custom_prediction[str(image_idx)]['rel_labels']\n",
    "all_rel_scores = custom_prediction[str(image_idx)]['rel_scores']\n",
    "all_rel_pairs = custom_prediction[str(image_idx)]['rel_pairs']\n",
    "\n",
    "for i in range(len(box_labels)):\n",
    "    box_labels[i] = ind_to_classes[box_labels[i]]\n",
    "\n",
    "rel_labels = []\n",
    "rel_scores = []\n",
    "for i in range(len(all_rel_pairs)):\n",
    "    if all_rel_pairs[i][0] < box_topk and all_rel_pairs[i][1] < box_topk:\n",
    "        rel_scores.append(all_rel_scores[i])\n",
    "        label = str(all_rel_pairs[i][0]) + '_' + box_labels[all_rel_pairs[i][0]] + ' => ' + ind_to_predicates[all_rel_labels[i]] + ' => ' + str(all_rel_pairs[i][1]) + '_' + box_labels[all_rel_pairs[i][1]]\n",
    "        rel_labels.append(label)\n",
    "\n",
    "rel_labels = rel_labels[:rel_topk]\n",
    "rel_scores = rel_scores[:rel_topk]\n",
    "\n",
    "draw_image(image_path, boxes, box_labels, rel_labels, box_scores=box_scores, rel_scores=rel_scores)"
   ]
  }
 ],
 "metadata": {
  "kernelspec": {
   "name": "python3",
   "display_name": "Python 3.6.13 64-bit ('pyspark': conda)"
  },
  "language_info": {
   "codemirror_mode": {
    "name": "ipython",
    "version": 3
   },
   "file_extension": ".py",
   "mimetype": "text/x-python",
   "name": "python",
   "nbconvert_exporter": "python",
   "pygments_lexer": "ipython3",
   "version": "3.6.13"
  },
  "interpreter": {
   "hash": "ee23df702193e50bb73a2fe4fdc354801b9fc4ce4eab77d5c2b6075e53acb344"
  }
 },
 "nbformat": 4,
 "nbformat_minor": 5
}